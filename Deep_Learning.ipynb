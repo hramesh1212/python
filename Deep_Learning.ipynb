{
  "nbformat": 4,
  "nbformat_minor": 0,
  "metadata": {
    "colab": {
      "provenance": [],
      "authorship_tag": "ABX9TyOJiPfGTNSn+C38YIQZb8h8",
      "include_colab_link": true
    },
    "kernelspec": {
      "name": "python3",
      "display_name": "Python 3"
    },
    "language_info": {
      "name": "python"
    }
  },
  "cells": [
    {
      "cell_type": "markdown",
      "metadata": {
        "id": "view-in-github",
        "colab_type": "text"
      },
      "source": [
        "<a href=\"https://colab.research.google.com/github/hramesh1212/python/blob/main/Deep_Learning.ipynb\" target=\"_parent\"><img src=\"https://colab.research.google.com/assets/colab-badge.svg\" alt=\"Open In Colab\"/></a>"
      ]
    },
    {
      "cell_type": "code",
      "execution_count": null,
      "metadata": {
        "id": "yiyhofb8Lopc"
      },
      "outputs": [],
      "source": [
        "import pandas as pd\n",
        "import numpy as np\n",
        "import seaborn as sns\n",
        "import tensorflow as tf\n"
      ]
    },
    {
      "cell_type": "code",
      "source": [
        "from google.colab import drive \n",
        "drive.mount('/content/gdrive')"
      ],
      "metadata": {
        "colab": {
          "base_uri": "https://localhost:8080/"
        },
        "id": "t6_5FzC_U2mb",
        "outputId": "832a45c5-118d-450a-ced2-fef3c56dbd7c"
      },
      "execution_count": null,
      "outputs": [
        {
          "output_type": "stream",
          "name": "stdout",
          "text": [
            "Mounted at /content/gdrive\n"
          ]
        }
      ]
    },
    {
      "cell_type": "code",
      "source": [
        "import pandas as pd \n",
        "df=pd.read_csv(\"/content/sample_data/california_housing_train.csv\")"
      ],
      "metadata": {
        "id": "Ad_tnadlv_2b"
      },
      "execution_count": null,
      "outputs": []
    },
    {
      "cell_type": "code",
      "source": [
        "df.head()"
      ],
      "metadata": {
        "colab": {
          "base_uri": "https://localhost:8080/",
          "height": 270
        },
        "id": "AObvi--jwlZy",
        "outputId": "bd5941fb-7b17-4e73-a869-ace7cd107ea6"
      },
      "execution_count": null,
      "outputs": [
        {
          "output_type": "execute_result",
          "data": {
            "text/plain": [
              "   longitude  latitude  housing_median_age  total_rooms  total_bedrooms  \\\n",
              "0    -114.31     34.19                15.0       5612.0          1283.0   \n",
              "1    -114.47     34.40                19.0       7650.0          1901.0   \n",
              "2    -114.56     33.69                17.0        720.0           174.0   \n",
              "3    -114.57     33.64                14.0       1501.0           337.0   \n",
              "4    -114.57     33.57                20.0       1454.0           326.0   \n",
              "\n",
              "   population  households  median_income  median_house_value  \n",
              "0      1015.0       472.0         1.4936             66900.0  \n",
              "1      1129.0       463.0         1.8200             80100.0  \n",
              "2       333.0       117.0         1.6509             85700.0  \n",
              "3       515.0       226.0         3.1917             73400.0  \n",
              "4       624.0       262.0         1.9250             65500.0  "
            ],
            "text/html": [
              "\n",
              "  <div id=\"df-58ab9b46-b6eb-4edc-8eea-14cfa4b967b0\">\n",
              "    <div class=\"colab-df-container\">\n",
              "      <div>\n",
              "<style scoped>\n",
              "    .dataframe tbody tr th:only-of-type {\n",
              "        vertical-align: middle;\n",
              "    }\n",
              "\n",
              "    .dataframe tbody tr th {\n",
              "        vertical-align: top;\n",
              "    }\n",
              "\n",
              "    .dataframe thead th {\n",
              "        text-align: right;\n",
              "    }\n",
              "</style>\n",
              "<table border=\"1\" class=\"dataframe\">\n",
              "  <thead>\n",
              "    <tr style=\"text-align: right;\">\n",
              "      <th></th>\n",
              "      <th>longitude</th>\n",
              "      <th>latitude</th>\n",
              "      <th>housing_median_age</th>\n",
              "      <th>total_rooms</th>\n",
              "      <th>total_bedrooms</th>\n",
              "      <th>population</th>\n",
              "      <th>households</th>\n",
              "      <th>median_income</th>\n",
              "      <th>median_house_value</th>\n",
              "    </tr>\n",
              "  </thead>\n",
              "  <tbody>\n",
              "    <tr>\n",
              "      <th>0</th>\n",
              "      <td>-114.31</td>\n",
              "      <td>34.19</td>\n",
              "      <td>15.0</td>\n",
              "      <td>5612.0</td>\n",
              "      <td>1283.0</td>\n",
              "      <td>1015.0</td>\n",
              "      <td>472.0</td>\n",
              "      <td>1.4936</td>\n",
              "      <td>66900.0</td>\n",
              "    </tr>\n",
              "    <tr>\n",
              "      <th>1</th>\n",
              "      <td>-114.47</td>\n",
              "      <td>34.40</td>\n",
              "      <td>19.0</td>\n",
              "      <td>7650.0</td>\n",
              "      <td>1901.0</td>\n",
              "      <td>1129.0</td>\n",
              "      <td>463.0</td>\n",
              "      <td>1.8200</td>\n",
              "      <td>80100.0</td>\n",
              "    </tr>\n",
              "    <tr>\n",
              "      <th>2</th>\n",
              "      <td>-114.56</td>\n",
              "      <td>33.69</td>\n",
              "      <td>17.0</td>\n",
              "      <td>720.0</td>\n",
              "      <td>174.0</td>\n",
              "      <td>333.0</td>\n",
              "      <td>117.0</td>\n",
              "      <td>1.6509</td>\n",
              "      <td>85700.0</td>\n",
              "    </tr>\n",
              "    <tr>\n",
              "      <th>3</th>\n",
              "      <td>-114.57</td>\n",
              "      <td>33.64</td>\n",
              "      <td>14.0</td>\n",
              "      <td>1501.0</td>\n",
              "      <td>337.0</td>\n",
              "      <td>515.0</td>\n",
              "      <td>226.0</td>\n",
              "      <td>3.1917</td>\n",
              "      <td>73400.0</td>\n",
              "    </tr>\n",
              "    <tr>\n",
              "      <th>4</th>\n",
              "      <td>-114.57</td>\n",
              "      <td>33.57</td>\n",
              "      <td>20.0</td>\n",
              "      <td>1454.0</td>\n",
              "      <td>326.0</td>\n",
              "      <td>624.0</td>\n",
              "      <td>262.0</td>\n",
              "      <td>1.9250</td>\n",
              "      <td>65500.0</td>\n",
              "    </tr>\n",
              "  </tbody>\n",
              "</table>\n",
              "</div>\n",
              "      <button class=\"colab-df-convert\" onclick=\"convertToInteractive('df-58ab9b46-b6eb-4edc-8eea-14cfa4b967b0')\"\n",
              "              title=\"Convert this dataframe to an interactive table.\"\n",
              "              style=\"display:none;\">\n",
              "        \n",
              "  <svg xmlns=\"http://www.w3.org/2000/svg\" height=\"24px\"viewBox=\"0 0 24 24\"\n",
              "       width=\"24px\">\n",
              "    <path d=\"M0 0h24v24H0V0z\" fill=\"none\"/>\n",
              "    <path d=\"M18.56 5.44l.94 2.06.94-2.06 2.06-.94-2.06-.94-.94-2.06-.94 2.06-2.06.94zm-11 1L8.5 8.5l.94-2.06 2.06-.94-2.06-.94L8.5 2.5l-.94 2.06-2.06.94zm10 10l.94 2.06.94-2.06 2.06-.94-2.06-.94-.94-2.06-.94 2.06-2.06.94z\"/><path d=\"M17.41 7.96l-1.37-1.37c-.4-.4-.92-.59-1.43-.59-.52 0-1.04.2-1.43.59L10.3 9.45l-7.72 7.72c-.78.78-.78 2.05 0 2.83L4 21.41c.39.39.9.59 1.41.59.51 0 1.02-.2 1.41-.59l7.78-7.78 2.81-2.81c.8-.78.8-2.07 0-2.86zM5.41 20L4 18.59l7.72-7.72 1.47 1.35L5.41 20z\"/>\n",
              "  </svg>\n",
              "      </button>\n",
              "      \n",
              "  <style>\n",
              "    .colab-df-container {\n",
              "      display:flex;\n",
              "      flex-wrap:wrap;\n",
              "      gap: 12px;\n",
              "    }\n",
              "\n",
              "    .colab-df-convert {\n",
              "      background-color: #E8F0FE;\n",
              "      border: none;\n",
              "      border-radius: 50%;\n",
              "      cursor: pointer;\n",
              "      display: none;\n",
              "      fill: #1967D2;\n",
              "      height: 32px;\n",
              "      padding: 0 0 0 0;\n",
              "      width: 32px;\n",
              "    }\n",
              "\n",
              "    .colab-df-convert:hover {\n",
              "      background-color: #E2EBFA;\n",
              "      box-shadow: 0px 1px 2px rgba(60, 64, 67, 0.3), 0px 1px 3px 1px rgba(60, 64, 67, 0.15);\n",
              "      fill: #174EA6;\n",
              "    }\n",
              "\n",
              "    [theme=dark] .colab-df-convert {\n",
              "      background-color: #3B4455;\n",
              "      fill: #D2E3FC;\n",
              "    }\n",
              "\n",
              "    [theme=dark] .colab-df-convert:hover {\n",
              "      background-color: #434B5C;\n",
              "      box-shadow: 0px 1px 3px 1px rgba(0, 0, 0, 0.15);\n",
              "      filter: drop-shadow(0px 1px 2px rgba(0, 0, 0, 0.3));\n",
              "      fill: #FFFFFF;\n",
              "    }\n",
              "  </style>\n",
              "\n",
              "      <script>\n",
              "        const buttonEl =\n",
              "          document.querySelector('#df-58ab9b46-b6eb-4edc-8eea-14cfa4b967b0 button.colab-df-convert');\n",
              "        buttonEl.style.display =\n",
              "          google.colab.kernel.accessAllowed ? 'block' : 'none';\n",
              "\n",
              "        async function convertToInteractive(key) {\n",
              "          const element = document.querySelector('#df-58ab9b46-b6eb-4edc-8eea-14cfa4b967b0');\n",
              "          const dataTable =\n",
              "            await google.colab.kernel.invokeFunction('convertToInteractive',\n",
              "                                                     [key], {});\n",
              "          if (!dataTable) return;\n",
              "\n",
              "          const docLinkHtml = 'Like what you see? Visit the ' +\n",
              "            '<a target=\"_blank\" href=https://colab.research.google.com/notebooks/data_table.ipynb>data table notebook</a>'\n",
              "            + ' to learn more about interactive tables.';\n",
              "          element.innerHTML = '';\n",
              "          dataTable['output_type'] = 'display_data';\n",
              "          await google.colab.output.renderOutput(dataTable, element);\n",
              "          const docLink = document.createElement('div');\n",
              "          docLink.innerHTML = docLinkHtml;\n",
              "          element.appendChild(docLink);\n",
              "        }\n",
              "      </script>\n",
              "    </div>\n",
              "  </div>\n",
              "  "
            ]
          },
          "metadata": {},
          "execution_count": 6
        }
      ]
    },
    {
      "cell_type": "code",
      "source": [
        "df[\"latitude\"]"
      ],
      "metadata": {
        "colab": {
          "base_uri": "https://localhost:8080/"
        },
        "id": "F1K00aqk6g80",
        "outputId": "89b85784-919c-4f8a-a2d3-1d6510582f0c"
      },
      "execution_count": null,
      "outputs": [
        {
          "output_type": "execute_result",
          "data": {
            "text/plain": [
              "0        34.19\n",
              "1        34.40\n",
              "2        33.69\n",
              "3        33.64\n",
              "4        33.57\n",
              "         ...  \n",
              "16995    40.58\n",
              "16996    40.69\n",
              "16997    41.84\n",
              "16998    41.80\n",
              "16999    40.54\n",
              "Name: latitude, Length: 17000, dtype: float64"
            ]
          },
          "metadata": {},
          "execution_count": 15
        }
      ]
    },
    {
      "cell_type": "code",
      "source": [
        "df[['households','median_house_value']]\n",
        "import seaborn as sns"
      ],
      "metadata": {
        "id": "4fpbFpxw6rMt"
      },
      "execution_count": null,
      "outputs": []
    },
    {
      "cell_type": "code",
      "source": [
        "sns.pairplot(df[['households','median_house_value']],palette='coolwarm')\n",
        "import matplotlib.pyplot as plt\n",
        "plt.show()"
      ],
      "metadata": {
        "colab": {
          "base_uri": "https://localhost:8080/",
          "height": 374
        },
        "id": "cCabNWpV7-ex",
        "outputId": "6d0ce1e3-4f02-47dc-ba39-7e8592153b45"
      },
      "execution_count": null,
      "outputs": [
        {
          "output_type": "display_data",
          "data": {
            "text/plain": [
              "<Figure size 360x360 with 6 Axes>"
            ],
            "image/png": "[encoded data removed]"
          },
          "metadata": {
            "needs_background": "light"
          }
        }
      ]
    },
    {
      "cell_type": "code",
      "source": [
        "dff=df[['households','median_house_value','housing_median_age']]\n",
        "from sklearn.model_selection import train_test_split\n",
        "X=dff[['households','median_house_value']].values\n",
        "y=dff[\"housing_median_age\"]"
      ],
      "metadata": {
        "id": "ezKsG3NG8oVW"
      },
      "execution_count": null,
      "outputs": []
    },
    {
      "cell_type": "code",
      "source": [
        "X_train,X_test,y_train,y_test=train_test_split(X,y,test_size=0.25)\n",
        "from sklearn.preprocessing import MinMaxScaler\n",
        "scaler=MinMaxScaler()\n",
        "scaler.fit(X_train)\n",
        "X_train=scaler.transform(X_train)\n",
        "X_test=scaler.transform(X_test)"
      ],
      "metadata": {
        "id": "_mZ-v7Z9E6WY"
      },
      "execution_count": null,
      "outputs": []
    },
    {
      "cell_type": "code",
      "source": [
        "model = Sequential()\n",
        "\n",
        "\n",
        "\n",
        "model.add(Dense(4,activation='relu'))\n",
        "model.add(Dense(4,activation='relu'))\n",
        "model.add(Dense(4,activation='relu'))\n",
        "\n",
        "model.add(Dense(1))\n",
        "\n",
        "model.compile(optimizer='rmsprop',loss='mse')\n"
      ],
      "metadata": {
        "id": "quZpN2-XR8ze"
      },
      "execution_count": null,
      "outputs": []
    },
    {
      "cell_type": "code",
      "source": [
        "model.fit(x=X_train,y=y_train,epochs=250)"
      ],
      "metadata": {
        "colab": {
          "base_uri": "https://localhost:8080/"
        },
        "id": "WOKpXMqwWma1",
        "outputId": "e1f878b1-cf32-4163-85eb-e9b097495bca"
      },
      "execution_count": null,
      "outputs": [
        {
          "output_type": "stream",
          "name": "stdout",
          "text": [
            "Epoch 1/250\n",
            "399/399 [==============================] - 2s 5ms/step - loss: 232.3857\n",
            "Epoch 2/250\n",
            "399/399 [==============================] - 1s 3ms/step - loss: 225.8469\n",
            "Epoch 3/250\n",
            "399/399 [==============================] - 1s 3ms/step - loss: 219.6753\n",
            "Epoch 4/250\n",
            "399/399 [==============================] - 1s 3ms/step - loss: 213.8697\n",
            "Epoch 5/250\n",
            "399/399 [==============================] - 1s 3ms/step - loss: 208.2381\n",
            "Epoch 6/250\n",
            "399/399 [==============================] - 1s 3ms/step - loss: 203.0056\n",
            "Epoch 7/250\n",
            "399/399 [==============================] - 1s 3ms/step - loss: 198.1249\n",
            "Epoch 8/250\n",
            "399/399 [==============================] - 1s 3ms/step - loss: 193.5394\n",
            "Epoch 9/250\n",
            "399/399 [==============================] - 1s 3ms/step - loss: 189.1908\n",
            "Epoch 10/250\n",
            "399/399 [==============================] - 2s 4ms/step - loss: 185.2328\n",
            "Epoch 11/250\n",
            "399/399 [==============================] - 2s 4ms/step - loss: 181.5216\n",
            "Epoch 12/250\n",
            "399/399 [==============================] - 1s 3ms/step - loss: 178.1574\n",
            "Epoch 13/250\n",
            "399/399 [==============================] - 1s 2ms/step - loss: 175.0889\n",
            "Epoch 14/250\n",
            "399/399 [==============================] - 1s 2ms/step - loss: 172.3244\n",
            "Epoch 15/250\n",
            "399/399 [==============================] - 1s 3ms/step - loss: 169.8546\n",
            "Epoch 16/250\n",
            "399/399 [==============================] - 1s 3ms/step - loss: 167.6437\n",
            "Epoch 17/250\n",
            "399/399 [==============================] - 1s 3ms/step - loss: 165.7473\n",
            "Epoch 18/250\n",
            "399/399 [==============================] - 1s 3ms/step - loss: 164.1425\n",
            "Epoch 19/250\n",
            "399/399 [==============================] - 1s 3ms/step - loss: 162.7523\n",
            "Epoch 20/250\n",
            "399/399 [==============================] - 1s 3ms/step - loss: 161.5822\n",
            "Epoch 21/250\n",
            "399/399 [==============================] - 1s 3ms/step - loss: 160.6414\n",
            "Epoch 22/250\n",
            "399/399 [==============================] - 1s 3ms/step - loss: 159.9037\n",
            "Epoch 23/250\n",
            "399/399 [==============================] - 2s 4ms/step - loss: 159.3212\n",
            "Epoch 24/250\n",
            "399/399 [==============================] - 1s 4ms/step - loss: 158.8616\n",
            "Epoch 25/250\n",
            "399/399 [==============================] - 1s 3ms/step - loss: 158.5289\n",
            "Epoch 26/250\n",
            "399/399 [==============================] - 1s 2ms/step - loss: 158.2769\n",
            "Epoch 27/250\n",
            "399/399 [==============================] - 1s 2ms/step - loss: 158.1019\n",
            "Epoch 28/250\n",
            "399/399 [==============================] - 1s 3ms/step - loss: 157.9621\n",
            "Epoch 29/250\n",
            "399/399 [==============================] - 1s 2ms/step - loss: 157.8616\n",
            "Epoch 30/250\n",
            "399/399 [==============================] - 1s 2ms/step - loss: 157.7916\n",
            "Epoch 31/250\n",
            "399/399 [==============================] - 1s 2ms/step - loss: 157.7406\n",
            "Epoch 32/250\n",
            "399/399 [==============================] - 1s 2ms/step - loss: 157.7075\n",
            "Epoch 33/250\n",
            "399/399 [==============================] - 1s 3ms/step - loss: 157.6834\n",
            "Epoch 34/250\n",
            "399/399 [==============================] - 1s 3ms/step - loss: 157.6652\n",
            "Epoch 35/250\n",
            "399/399 [==============================] - 1s 3ms/step - loss: 157.6537\n",
            "Epoch 36/250\n",
            "399/399 [==============================] - 2s 4ms/step - loss: 157.6449\n",
            "Epoch 37/250\n",
            "399/399 [==============================] - 2s 4ms/step - loss: 157.6373\n",
            "Epoch 38/250\n",
            "399/399 [==============================] - 1s 3ms/step - loss: 157.6329\n",
            "Epoch 39/250\n",
            "399/399 [==============================] - 1s 3ms/step - loss: 157.6295\n",
            "Epoch 40/250\n",
            "399/399 [==============================] - 1s 3ms/step - loss: 157.6268\n",
            "Epoch 41/250\n",
            "399/399 [==============================] - 1s 3ms/step - loss: 157.6248\n",
            "Epoch 42/250\n",
            "399/399 [==============================] - 1s 3ms/step - loss: 157.6236\n",
            "Epoch 43/250\n",
            "399/399 [==============================] - 1s 3ms/step - loss: 157.6226\n",
            "Epoch 44/250\n",
            "399/399 [==============================] - 1s 3ms/step - loss: 157.6224\n",
            "Epoch 45/250\n",
            "399/399 [==============================] - 1s 3ms/step - loss: 157.6218\n",
            "Epoch 46/250\n",
            "399/399 [==============================] - 2s 6ms/step - loss: 157.6213\n",
            "Epoch 47/250\n",
            "399/399 [==============================] - 2s 4ms/step - loss: 157.6209\n",
            "Epoch 48/250\n",
            "399/399 [==============================] - 2s 4ms/step - loss: 157.6212\n",
            "Epoch 49/250\n",
            "399/399 [==============================] - 1s 3ms/step - loss: 157.6209\n",
            "Epoch 50/250\n",
            "399/399 [==============================] - 1s 3ms/step - loss: 157.6212\n",
            "Epoch 51/250\n",
            "399/399 [==============================] - 1s 3ms/step - loss: 157.6211\n",
            "Epoch 52/250\n",
            "399/399 [==============================] - 1s 3ms/step - loss: 157.6208\n",
            "Epoch 53/250\n",
            "399/399 [==============================] - 1s 3ms/step - loss: 157.6210\n",
            "Epoch 54/250\n",
            "399/399 [==============================] - 1s 3ms/step - loss: 157.6212\n",
            "Epoch 55/250\n",
            "399/399 [==============================] - 1s 3ms/step - loss: 157.6213\n",
            "Epoch 56/250\n",
            "399/399 [==============================] - 1s 3ms/step - loss: 157.6212\n",
            "Epoch 57/250\n",
            "399/399 [==============================] - 1s 3ms/step - loss: 157.6212\n",
            "Epoch 58/250\n",
            "399/399 [==============================] - 2s 4ms/step - loss: 157.6213\n",
            "Epoch 59/250\n",
            "399/399 [==============================] - 2s 4ms/step - loss: 157.6213\n",
            "Epoch 60/250\n",
            "399/399 [==============================] - 1s 3ms/step - loss: 157.6221\n",
            "Epoch 61/250\n",
            "399/399 [==============================] - 1s 2ms/step - loss: 157.6214\n",
            "Epoch 62/250\n",
            "399/399 [==============================] - 1s 2ms/step - loss: 157.6211\n",
            "Epoch 63/250\n",
            "399/399 [==============================] - 1s 2ms/step - loss: 157.6217\n",
            "Epoch 64/250\n",
            "399/399 [==============================] - 1s 2ms/step - loss: 157.6205\n",
            "Epoch 65/250\n",
            "399/399 [==============================] - 1s 2ms/step - loss: 157.6210\n",
            "Epoch 66/250\n",
            "399/399 [==============================] - 1s 2ms/step - loss: 157.6212\n",
            "Epoch 67/250\n",
            "399/399 [==============================] - 1s 2ms/step - loss: 157.6213\n",
            "Epoch 68/250\n",
            "399/399 [==============================] - 1s 2ms/step - loss: 157.6212\n",
            "Epoch 69/250\n",
            "399/399 [==============================] - 1s 2ms/step - loss: 157.6219\n",
            "Epoch 70/250\n",
            "399/399 [==============================] - 1s 2ms/step - loss: 157.6215\n",
            "Epoch 71/250\n",
            "399/399 [==============================] - 1s 3ms/step - loss: 157.6213\n",
            "Epoch 72/250\n",
            "399/399 [==============================] - 2s 4ms/step - loss: 157.6213\n",
            "Epoch 73/250\n",
            "399/399 [==============================] - 2s 4ms/step - loss: 157.6215\n",
            "Epoch 74/250\n",
            "399/399 [==============================] - 1s 3ms/step - loss: 157.6211\n",
            "Epoch 75/250\n",
            "399/399 [==============================] - 1s 3ms/step - loss: 157.6205\n",
            "Epoch 76/250\n",
            "399/399 [==============================] - 1s 2ms/step - loss: 157.6215\n",
            "Epoch 77/250\n",
            "399/399 [==============================] - 1s 2ms/step - loss: 157.6214\n",
            "Epoch 78/250\n",
            "399/399 [==============================] - 1s 3ms/step - loss: 157.6215\n",
            "Epoch 79/250\n",
            "399/399 [==============================] - 1s 2ms/step - loss: 157.6206\n",
            "Epoch 80/250\n",
            "399/399 [==============================] - 1s 2ms/step - loss: 157.6214\n",
            "Epoch 81/250\n",
            "399/399 [==============================] - 1s 2ms/step - loss: 157.6213\n",
            "Epoch 82/250\n",
            "399/399 [==============================] - 1s 2ms/step - loss: 157.6213\n",
            "Epoch 83/250\n",
            "399/399 [==============================] - 1s 2ms/step - loss: 157.6212\n",
            "Epoch 84/250\n",
            "399/399 [==============================] - 1s 3ms/step - loss: 157.6213\n",
            "Epoch 85/250\n",
            "399/399 [==============================] - 1s 4ms/step - loss: 157.6210\n",
            "Epoch 86/250\n",
            "399/399 [==============================] - 1s 4ms/step - loss: 157.6209\n",
            "Epoch 87/250\n",
            "399/399 [==============================] - 1s 3ms/step - loss: 157.6213\n",
            "Epoch 88/250\n",
            "399/399 [==============================] - 1s 3ms/step - loss: 157.6212\n",
            "Epoch 89/250\n",
            "399/399 [==============================] - 1s 2ms/step - loss: 157.6215\n",
            "Epoch 90/250\n",
            "399/399 [==============================] - 1s 2ms/step - loss: 157.6210\n",
            "Epoch 91/250\n",
            "399/399 [==============================] - 1s 2ms/step - loss: 157.6227\n",
            "Epoch 92/250\n",
            "399/399 [==============================] - 1s 3ms/step - loss: 157.6212\n",
            "Epoch 93/250\n",
            "399/399 [==============================] - 1s 3ms/step - loss: 157.6217\n",
            "Epoch 94/250\n",
            "399/399 [==============================] - 1s 3ms/step - loss: 157.6210\n",
            "Epoch 95/250\n",
            "399/399 [==============================] - 1s 3ms/step - loss: 157.6207\n",
            "Epoch 96/250\n",
            "399/399 [==============================] - 1s 3ms/step - loss: 157.6211\n",
            "Epoch 97/250\n",
            "399/399 [==============================] - 1s 4ms/step - loss: 157.6212\n",
            "Epoch 98/250\n",
            "399/399 [==============================] - 1s 4ms/step - loss: 157.6209\n",
            "Epoch 99/250\n",
            "399/399 [==============================] - 2s 4ms/step - loss: 157.6209\n",
            "Epoch 100/250\n",
            "399/399 [==============================] - 1s 3ms/step - loss: 157.6211\n",
            "Epoch 101/250\n",
            "399/399 [==============================] - 1s 2ms/step - loss: 157.6212\n",
            "Epoch 102/250\n",
            "399/399 [==============================] - 1s 2ms/step - loss: 157.6213\n",
            "Epoch 103/250\n",
            "399/399 [==============================] - 1s 2ms/step - loss: 157.6213\n",
            "Epoch 104/250\n",
            "399/399 [==============================] - 1s 2ms/step - loss: 157.6213\n",
            "Epoch 105/250\n",
            "399/399 [==============================] - 1s 2ms/step - loss: 157.6221\n",
            "Epoch 106/250\n",
            "399/399 [==============================] - 1s 3ms/step - loss: 157.6204\n",
            "Epoch 107/250\n",
            "399/399 [==============================] - 1s 3ms/step - loss: 157.6214\n",
            "Epoch 108/250\n",
            "399/399 [==============================] - 1s 3ms/step - loss: 157.6210\n",
            "Epoch 109/250\n",
            "399/399 [==============================] - 1s 2ms/step - loss: 157.6210\n",
            "Epoch 110/250\n",
            "399/399 [==============================] - 1s 3ms/step - loss: 157.6213\n",
            "Epoch 111/250\n",
            "399/399 [==============================] - 2s 4ms/step - loss: 157.6214\n",
            "Epoch 112/250\n",
            "399/399 [==============================] - 2s 4ms/step - loss: 157.6213\n",
            "Epoch 113/250\n",
            "399/399 [==============================] - 1s 3ms/step - loss: 157.6212\n",
            "Epoch 114/250\n",
            "399/399 [==============================] - 1s 3ms/step - loss: 157.6212\n",
            "Epoch 115/250\n",
            "399/399 [==============================] - 1s 3ms/step - loss: 157.6211\n",
            "Epoch 116/250\n",
            "399/399 [==============================] - 1s 2ms/step - loss: 157.6211\n",
            "Epoch 117/250\n",
            "399/399 [==============================] - 1s 2ms/step - loss: 157.6217\n",
            "Epoch 118/250\n",
            "399/399 [==============================] - 1s 2ms/step - loss: 157.6210\n",
            "Epoch 119/250\n",
            "399/399 [==============================] - 1s 2ms/step - loss: 157.6211\n",
            "Epoch 120/250\n",
            "399/399 [==============================] - 1s 3ms/step - loss: 157.6212\n",
            "Epoch 121/250\n",
            "399/399 [==============================] - 1s 3ms/step - loss: 157.6215\n",
            "Epoch 122/250\n",
            "399/399 [==============================] - 1s 2ms/step - loss: 157.6214\n",
            "Epoch 123/250\n",
            "399/399 [==============================] - 2s 4ms/step - loss: 157.6219\n",
            "Epoch 124/250\n",
            "399/399 [==============================] - 1s 4ms/step - loss: 157.6216\n",
            "Epoch 125/250\n",
            "399/399 [==============================] - 1s 3ms/step - loss: 157.6214\n",
            "Epoch 126/250\n",
            "399/399 [==============================] - 1s 3ms/step - loss: 157.6212\n",
            "Epoch 127/250\n",
            "399/399 [==============================] - 1s 3ms/step - loss: 157.6214\n",
            "Epoch 128/250\n",
            "399/399 [==============================] - 1s 3ms/step - loss: 157.6211\n",
            "Epoch 129/250\n",
            "399/399 [==============================] - 1s 3ms/step - loss: 157.6213\n",
            "Epoch 130/250\n",
            "399/399 [==============================] - 1s 3ms/step - loss: 157.6216\n",
            "Epoch 131/250\n",
            "399/399 [==============================] - 1s 3ms/step - loss: 157.6212\n",
            "Epoch 132/250\n",
            "399/399 [==============================] - 1s 2ms/step - loss: 157.6211\n",
            "Epoch 133/250\n",
            "399/399 [==============================] - 1s 2ms/step - loss: 157.6214\n",
            "Epoch 134/250\n",
            "399/399 [==============================] - 1s 2ms/step - loss: 157.6213\n",
            "Epoch 135/250\n",
            "399/399 [==============================] - 1s 3ms/step - loss: 157.6212\n",
            "Epoch 136/250\n",
            "399/399 [==============================] - 1s 4ms/step - loss: 157.6213\n",
            "Epoch 137/250\n",
            "399/399 [==============================] - 1s 3ms/step - loss: 157.6209\n",
            "Epoch 138/250\n",
            "399/399 [==============================] - 1s 2ms/step - loss: 157.6213\n",
            "Epoch 139/250\n",
            "399/399 [==============================] - 1s 3ms/step - loss: 157.6212\n",
            "Epoch 140/250\n",
            "399/399 [==============================] - 1s 2ms/step - loss: 157.6211\n",
            "Epoch 141/250\n",
            "399/399 [==============================] - 1s 2ms/step - loss: 157.6216\n",
            "Epoch 142/250\n",
            "399/399 [==============================] - 1s 2ms/step - loss: 157.6214\n",
            "Epoch 143/250\n",
            "399/399 [==============================] - 1s 3ms/step - loss: 157.6214\n",
            "Epoch 144/250\n",
            "399/399 [==============================] - 1s 3ms/step - loss: 157.6216\n",
            "Epoch 145/250\n",
            "399/399 [==============================] - 1s 3ms/step - loss: 157.6214\n",
            "Epoch 146/250\n",
            "399/399 [==============================] - 1s 3ms/step - loss: 157.6211\n",
            "Epoch 147/250\n",
            "399/399 [==============================] - 1s 3ms/step - loss: 157.6214\n",
            "Epoch 148/250\n",
            "399/399 [==============================] - 2s 4ms/step - loss: 157.6211\n",
            "Epoch 149/250\n",
            "399/399 [==============================] - 2s 4ms/step - loss: 157.6216\n",
            "Epoch 150/250\n",
            "399/399 [==============================] - 1s 3ms/step - loss: 157.6213\n",
            "Epoch 151/250\n",
            "399/399 [==============================] - 1s 2ms/step - loss: 157.6213\n",
            "Epoch 152/250\n",
            "399/399 [==============================] - 1s 2ms/step - loss: 157.6215\n",
            "Epoch 153/250\n",
            "399/399 [==============================] - 1s 2ms/step - loss: 157.6208\n",
            "Epoch 154/250\n",
            "399/399 [==============================] - 1s 2ms/step - loss: 157.6210\n",
            "Epoch 155/250\n",
            "399/399 [==============================] - 1s 3ms/step - loss: 157.6211\n",
            "Epoch 156/250\n",
            "399/399 [==============================] - 1s 2ms/step - loss: 157.6213\n",
            "Epoch 157/250\n",
            "399/399 [==============================] - 1s 2ms/step - loss: 157.6212\n",
            "Epoch 158/250\n",
            "399/399 [==============================] - 1s 2ms/step - loss: 157.6218\n",
            "Epoch 159/250\n",
            "399/399 [==============================] - 1s 2ms/step - loss: 157.6213\n",
            "Epoch 160/250\n",
            "399/399 [==============================] - 1s 3ms/step - loss: 157.6212\n",
            "Epoch 161/250\n",
            "399/399 [==============================] - 1s 4ms/step - loss: 157.6209\n",
            "Epoch 162/250\n",
            "399/399 [==============================] - 2s 4ms/step - loss: 157.6212\n",
            "Epoch 163/250\n",
            "399/399 [==============================] - 1s 3ms/step - loss: 157.6205\n",
            "Epoch 164/250\n",
            "399/399 [==============================] - 1s 3ms/step - loss: 157.6214\n",
            "Epoch 165/250\n",
            "399/399 [==============================] - 1s 3ms/step - loss: 157.6217\n",
            "Epoch 166/250\n",
            "399/399 [==============================] - 1s 3ms/step - loss: 157.6217\n",
            "Epoch 167/250\n",
            "399/399 [==============================] - 1s 3ms/step - loss: 157.6220\n",
            "Epoch 168/250\n",
            "399/399 [==============================] - 1s 3ms/step - loss: 157.6212\n",
            "Epoch 169/250\n",
            "399/399 [==============================] - 1s 3ms/step - loss: 157.6214\n",
            "Epoch 170/250\n",
            "399/399 [==============================] - 1s 2ms/step - loss: 157.6219\n",
            "Epoch 171/250\n",
            "399/399 [==============================] - 1s 2ms/step - loss: 157.6214\n",
            "Epoch 172/250\n",
            "399/399 [==============================] - 1s 3ms/step - loss: 157.6212\n",
            "Epoch 173/250\n",
            "399/399 [==============================] - 1s 3ms/step - loss: 157.6211\n",
            "Epoch 174/250\n",
            "399/399 [==============================] - 2s 4ms/step - loss: 157.6209\n",
            "Epoch 175/250\n",
            "399/399 [==============================] - 1s 3ms/step - loss: 157.6210\n",
            "Epoch 176/250\n",
            "399/399 [==============================] - 1s 3ms/step - loss: 157.6212\n",
            "Epoch 177/250\n",
            "399/399 [==============================] - 1s 2ms/step - loss: 157.6212\n",
            "Epoch 178/250\n",
            "399/399 [==============================] - 1s 2ms/step - loss: 157.6215\n",
            "Epoch 179/250\n",
            "399/399 [==============================] - 1s 3ms/step - loss: 157.6213\n",
            "Epoch 180/250\n",
            "399/399 [==============================] - 1s 3ms/step - loss: 157.6212\n",
            "Epoch 181/250\n",
            "399/399 [==============================] - 1s 3ms/step - loss: 157.6216\n",
            "Epoch 182/250\n",
            "399/399 [==============================] - 1s 3ms/step - loss: 157.6216\n",
            "Epoch 183/250\n",
            "399/399 [==============================] - 1s 2ms/step - loss: 157.6208\n",
            "Epoch 184/250\n",
            "399/399 [==============================] - 1s 3ms/step - loss: 157.6213\n",
            "Epoch 185/250\n",
            "399/399 [==============================] - 1s 4ms/step - loss: 157.6212\n",
            "Epoch 186/250\n",
            "399/399 [==============================] - 2s 4ms/step - loss: 157.6212\n",
            "Epoch 187/250\n",
            "399/399 [==============================] - 1s 3ms/step - loss: 157.6216\n",
            "Epoch 188/250\n",
            "399/399 [==============================] - 1s 2ms/step - loss: 157.6213\n",
            "Epoch 189/250\n",
            "399/399 [==============================] - 1s 2ms/step - loss: 157.6213\n",
            "Epoch 190/250\n",
            "399/399 [==============================] - 1s 2ms/step - loss: 157.6208\n",
            "Epoch 191/250\n",
            "399/399 [==============================] - 1s 2ms/step - loss: 157.6207\n",
            "Epoch 192/250\n",
            "399/399 [==============================] - 1s 2ms/step - loss: 157.6206\n",
            "Epoch 193/250\n",
            "399/399 [==============================] - 1s 3ms/step - loss: 157.6214\n",
            "Epoch 194/250\n",
            "399/399 [==============================] - 1s 2ms/step - loss: 157.6217\n",
            "Epoch 195/250\n",
            "399/399 [==============================] - 1s 2ms/step - loss: 157.6212\n",
            "Epoch 196/250\n",
            "399/399 [==============================] - 1s 2ms/step - loss: 157.6216\n",
            "Epoch 197/250\n",
            "399/399 [==============================] - 1s 3ms/step - loss: 157.6217\n",
            "Epoch 198/250\n",
            "399/399 [==============================] - 2s 4ms/step - loss: 157.6215\n",
            "Epoch 199/250\n",
            "399/399 [==============================] - 2s 4ms/step - loss: 157.6212\n",
            "Epoch 200/250\n",
            "399/399 [==============================] - 1s 3ms/step - loss: 157.6214\n",
            "Epoch 201/250\n",
            "399/399 [==============================] - 1s 3ms/step - loss: 157.6213\n",
            "Epoch 202/250\n",
            "399/399 [==============================] - 1s 3ms/step - loss: 157.6213\n",
            "Epoch 203/250\n",
            "399/399 [==============================] - 1s 3ms/step - loss: 157.6218\n",
            "Epoch 204/250\n",
            "399/399 [==============================] - 1s 3ms/step - loss: 157.6213\n",
            "Epoch 205/250\n",
            "399/399 [==============================] - 1s 3ms/step - loss: 157.6209\n",
            "Epoch 206/250\n",
            "399/399 [==============================] - 1s 2ms/step - loss: 157.6201\n",
            "Epoch 207/250\n",
            "399/399 [==============================] - 1s 2ms/step - loss: 157.6209\n",
            "Epoch 208/250\n",
            "399/399 [==============================] - 1s 2ms/step - loss: 157.6214\n",
            "Epoch 209/250\n",
            "399/399 [==============================] - 1s 3ms/step - loss: 157.6214\n",
            "Epoch 210/250\n",
            "399/399 [==============================] - 1s 4ms/step - loss: 157.6210\n",
            "Epoch 211/250\n",
            "399/399 [==============================] - 1s 4ms/step - loss: 157.6212\n",
            "Epoch 212/250\n",
            "399/399 [==============================] - 1s 3ms/step - loss: 157.6203\n",
            "Epoch 213/250\n",
            "399/399 [==============================] - 1s 2ms/step - loss: 157.6211\n",
            "Epoch 214/250\n",
            "399/399 [==============================] - 1s 2ms/step - loss: 157.6212\n",
            "Epoch 215/250\n",
            "399/399 [==============================] - 1s 3ms/step - loss: 157.6213\n",
            "Epoch 216/250\n",
            "399/399 [==============================] - 1s 3ms/step - loss: 157.6214\n",
            "Epoch 217/250\n",
            "399/399 [==============================] - 1s 3ms/step - loss: 157.6217\n",
            "Epoch 218/250\n",
            "399/399 [==============================] - 1s 3ms/step - loss: 157.6211\n",
            "Epoch 219/250\n",
            "399/399 [==============================] - 1s 3ms/step - loss: 157.6214\n",
            "Epoch 220/250\n",
            "399/399 [==============================] - 1s 3ms/step - loss: 157.6209\n",
            "Epoch 221/250\n",
            "399/399 [==============================] - 1s 2ms/step - loss: 157.6213\n",
            "Epoch 222/250\n",
            "399/399 [==============================] - 2s 4ms/step - loss: 157.6215\n",
            "Epoch 223/250\n",
            "399/399 [==============================] - 2s 4ms/step - loss: 157.6213\n",
            "Epoch 224/250\n",
            "399/399 [==============================] - 1s 3ms/step - loss: 157.6210\n",
            "Epoch 225/250\n",
            "399/399 [==============================] - 1s 2ms/step - loss: 157.6212\n",
            "Epoch 226/250\n",
            "399/399 [==============================] - 1s 2ms/step - loss: 157.6212\n",
            "Epoch 227/250\n",
            "399/399 [==============================] - 1s 2ms/step - loss: 157.6212\n",
            "Epoch 228/250\n",
            "399/399 [==============================] - 1s 2ms/step - loss: 157.6213\n",
            "Epoch 229/250\n",
            "399/399 [==============================] - 1s 2ms/step - loss: 157.6214\n",
            "Epoch 230/250\n",
            "399/399 [==============================] - 1s 2ms/step - loss: 157.6211\n",
            "Epoch 231/250\n",
            "399/399 [==============================] - 1s 3ms/step - loss: 157.6207\n",
            "Epoch 232/250\n",
            "399/399 [==============================] - 1s 3ms/step - loss: 157.6211\n",
            "Epoch 233/250\n",
            "399/399 [==============================] - 1s 3ms/step - loss: 157.6208\n",
            "Epoch 234/250\n",
            "399/399 [==============================] - 2s 4ms/step - loss: 157.6210\n",
            "Epoch 235/250\n",
            "399/399 [==============================] - 2s 4ms/step - loss: 157.6216\n",
            "Epoch 236/250\n",
            "399/399 [==============================] - 2s 4ms/step - loss: 157.6211\n",
            "Epoch 237/250\n",
            "399/399 [==============================] - 1s 3ms/step - loss: 157.6212\n",
            "Epoch 238/250\n",
            "399/399 [==============================] - 1s 3ms/step - loss: 157.6212\n",
            "Epoch 239/250\n",
            "399/399 [==============================] - 1s 3ms/step - loss: 157.6209\n",
            "Epoch 240/250\n",
            "399/399 [==============================] - 1s 3ms/step - loss: 157.6213\n",
            "Epoch 241/250\n",
            "399/399 [==============================] - 1s 3ms/step - loss: 157.6211\n",
            "Epoch 242/250\n",
            "399/399 [==============================] - 1s 2ms/step - loss: 157.6215\n",
            "Epoch 243/250\n",
            "399/399 [==============================] - 1s 2ms/step - loss: 157.6212\n",
            "Epoch 244/250\n",
            "399/399 [==============================] - 1s 2ms/step - loss: 157.6211\n",
            "Epoch 245/250\n",
            "399/399 [==============================] - 1s 3ms/step - loss: 157.6214\n",
            "Epoch 246/250\n",
            "399/399 [==============================] - 1s 4ms/step - loss: 157.6211\n",
            "Epoch 247/250\n",
            "399/399 [==============================] - 1s 3ms/step - loss: 157.6212\n",
            "Epoch 248/250\n",
            "399/399 [==============================] - 1s 3ms/step - loss: 157.6216\n",
            "Epoch 249/250\n",
            "399/399 [==============================] - 1s 2ms/step - loss: 157.6213\n",
            "Epoch 250/250\n",
            "399/399 [==============================] - 1s 2ms/step - loss: 157.6214\n"
          ]
        },
        {
          "output_type": "execute_result",
          "data": {
            "text/plain": [
              "<keras.callbacks.History at 0x7f89c5dab4c0>"
            ]
          },
          "metadata": {},
          "execution_count": 97
        }
      ]
    },
    {
      "cell_type": "code",
      "source": [
        "Loss=pd.DataFrame(model.history.history)\n",
        "Loss.tail(5)"
      ],
      "metadata": {
        "colab": {
          "base_uri": "https://localhost:8080/",
          "height": 206
        },
        "id": "BwFM2MOjXulD",
        "outputId": "be25007f-c633-46b5-e0e8-2866e8a6b304"
      },
      "execution_count": null,
      "outputs": [
        {
          "output_type": "execute_result",
          "data": {
            "text/plain": [
              "          loss\n",
              "45  269.613220\n",
              "46  261.509186\n",
              "47  253.793976\n",
              "48  246.316940\n",
              "49  239.199249"
            ],
            "text/html": [
              "\n",
              "  <div id=\"df-c5ebb796-ce9e-4598-9ad8-98d02bd4dde4\">\n",
              "    <div class=\"colab-df-container\">\n",
              "      <div>\n",
              "<style scoped>\n",
              "    .dataframe tbody tr th:only-of-type {\n",
              "        vertical-align: middle;\n",
              "    }\n",
              "\n",
              "    .dataframe tbody tr th {\n",
              "        vertical-align: top;\n",
              "    }\n",
              "\n",
              "    .dataframe thead th {\n",
              "        text-align: right;\n",
              "    }\n",
              "</style>\n",
              "<table border=\"1\" class=\"dataframe\">\n",
              "  <thead>\n",
              "    <tr style=\"text-align: right;\">\n",
              "      <th></th>\n",
              "      <th>loss</th>\n",
              "    </tr>\n",
              "  </thead>\n",
              "  <tbody>\n",
              "    <tr>\n",
              "      <th>45</th>\n",
              "      <td>269.613220</td>\n",
              "    </tr>\n",
              "    <tr>\n",
              "      <th>46</th>\n",
              "      <td>261.509186</td>\n",
              "    </tr>\n",
              "    <tr>\n",
              "      <th>47</th>\n",
              "      <td>253.793976</td>\n",
              "    </tr>\n",
              "    <tr>\n",
              "      <th>48</th>\n",
              "      <td>246.316940</td>\n",
              "    </tr>\n",
              "    <tr>\n",
              "      <th>49</th>\n",
              "      <td>239.199249</td>\n",
              "    </tr>\n",
              "  </tbody>\n",
              "</table>\n",
              "</div>\n",
              "      <button class=\"colab-df-convert\" onclick=\"convertToInteractive('df-c5ebb796-ce9e-4598-9ad8-98d02bd4dde4')\"\n",
              "              title=\"Convert this dataframe to an interactive table.\"\n",
              "              style=\"display:none;\">\n",
              "        \n",
              "  <svg xmlns=\"http://www.w3.org/2000/svg\" height=\"24px\"viewBox=\"0 0 24 24\"\n",
              "       width=\"24px\">\n",
              "    <path d=\"M0 0h24v24H0V0z\" fill=\"none\"/>\n",
              "    <path d=\"M18.56 5.44l.94 2.06.94-2.06 2.06-.94-2.06-.94-.94-2.06-.94 2.06-2.06.94zm-11 1L8.5 8.5l.94-2.06 2.06-.94-2.06-.94L8.5 2.5l-.94 2.06-2.06.94zm10 10l.94 2.06.94-2.06 2.06-.94-2.06-.94-.94-2.06-.94 2.06-2.06.94z\"/><path d=\"M17.41 7.96l-1.37-1.37c-.4-.4-.92-.59-1.43-.59-.52 0-1.04.2-1.43.59L10.3 9.45l-7.72 7.72c-.78.78-.78 2.05 0 2.83L4 21.41c.39.39.9.59 1.41.59.51 0 1.02-.2 1.41-.59l7.78-7.78 2.81-2.81c.8-.78.8-2.07 0-2.86zM5.41 20L4 18.59l7.72-7.72 1.47 1.35L5.41 20z\"/>\n",
              "  </svg>\n",
              "      </button>\n",
              "      \n",
              "  <style>\n",
              "    .colab-df-container {\n",
              "      display:flex;\n",
              "      flex-wrap:wrap;\n",
              "      gap: 12px;\n",
              "    }\n",
              "\n",
              "    .colab-df-convert {\n",
              "      background-color: #E8F0FE;\n",
              "      border: none;\n",
              "      border-radius: 50%;\n",
              "      cursor: pointer;\n",
              "      display: none;\n",
              "      fill: #1967D2;\n",
              "      height: 32px;\n",
              "      padding: 0 0 0 0;\n",
              "      width: 32px;\n",
              "    }\n",
              "\n",
              "    .colab-df-convert:hover {\n",
              "      background-color: #E2EBFA;\n",
              "      box-shadow: 0px 1px 2px rgba(60, 64, 67, 0.3), 0px 1px 3px 1px rgba(60, 64, 67, 0.15);\n",
              "      fill: #174EA6;\n",
              "    }\n",
              "\n",
              "    [theme=dark] .colab-df-convert {\n",
              "      background-color: #3B4455;\n",
              "      fill: #D2E3FC;\n",
              "    }\n",
              "\n",
              "    [theme=dark] .colab-df-convert:hover {\n",
              "      background-color: #434B5C;\n",
              "      box-shadow: 0px 1px 3px 1px rgba(0, 0, 0, 0.15);\n",
              "      filter: drop-shadow(0px 1px 2px rgba(0, 0, 0, 0.3));\n",
              "      fill: #FFFFFF;\n",
              "    }\n",
              "  </style>\n",
              "\n",
              "      <script>\n",
              "        const buttonEl =\n",
              "          document.querySelector('#df-c5ebb796-ce9e-4598-9ad8-98d02bd4dde4 button.colab-df-convert');\n",
              "        buttonEl.style.display =\n",
              "          google.colab.kernel.accessAllowed ? 'block' : 'none';\n",
              "\n",
              "        async function convertToInteractive(key) {\n",
              "          const element = document.querySelector('#df-c5ebb796-ce9e-4598-9ad8-98d02bd4dde4');\n",
              "          const dataTable =\n",
              "            await google.colab.kernel.invokeFunction('convertToInteractive',\n",
              "                                                     [key], {});\n",
              "          if (!dataTable) return;\n",
              "\n",
              "          const docLinkHtml = 'Like what you see? Visit the ' +\n",
              "            '<a target=\"_blank\" href=https://colab.research.google.com/notebooks/data_table.ipynb>data table notebook</a>'\n",
              "            + ' to learn more about interactive tables.';\n",
              "          element.innerHTML = '';\n",
              "          dataTable['output_type'] = 'display_data';\n",
              "          await google.colab.output.renderOutput(dataTable, element);\n",
              "          const docLink = document.createElement('div');\n",
              "          docLink.innerHTML = docLinkHtml;\n",
              "          element.appendChild(docLink);\n",
              "        }\n",
              "      </script>\n",
              "    </div>\n",
              "  </div>\n",
              "  "
            ]
          },
          "metadata": {},
          "execution_count": 89
        }
      ]
    },
    {
      "cell_type": "code",
      "source": [
        "print(model.evaluate(x=X_test,y=y_test,verbose=0))\n",
        "model.evaluate(x=X_train,y=y_train,verbose=0)"
      ],
      "metadata": {
        "colab": {
          "base_uri": "https://localhost:8080/"
        },
        "id": "CY0aSzAUcrYg",
        "outputId": "26f4e16e-8579-4b6e-ee12-a2cc3afa7153"
      },
      "execution_count": null,
      "outputs": [
        {
          "output_type": "stream",
          "name": "stdout",
          "text": [
            "239.16087341308594\n"
          ]
        },
        {
          "output_type": "execute_result",
          "data": {
            "text/plain": [
              "235.72776794433594"
            ]
          },
          "metadata": {},
          "execution_count": 90
        }
      ]
    },
    {
      "cell_type": "code",
      "source": [
        "predictions=model.predict(X_test)\n",
        "predictions"
      ],
      "metadata": {
        "colab": {
          "base_uri": "https://localhost:8080/"
        },
        "id": "4rwMDk_gc3x6",
        "outputId": "adcf352a-13ea-4f40-f1fb-3222bf45a998"
      },
      "execution_count": null,
      "outputs": [
        {
          "output_type": "stream",
          "name": "stdout",
          "text": [
            "133/133 [==============================] - 0s 2ms/step\n"
          ]
        },
        {
          "output_type": "execute_result",
          "data": {
            "text/plain": [
              "array([[19.748293],\n",
              "       [19.748293],\n",
              "       [19.748293],\n",
              "       ...,\n",
              "       [19.748293],\n",
              "       [19.748293],\n",
              "       [19.748293]], dtype=float32)"
            ]
          },
          "metadata": {},
          "execution_count": 91
        }
      ]
    },
    {
      "cell_type": "code",
      "source": [
        "import pandas as pd\n",
        "Pred=pd.Series(predictions.reshape(4250,))\n",
        "Comp=pd.DataFrame({\"y_test\":y_test,\"pred\":Pred})\n",
        "print(Comp.head())"
      ],
      "metadata": {
        "colab": {
          "base_uri": "https://localhost:8080/"
        },
        "id": "VUvszVtkdycY",
        "outputId": "5fe5b751-5b9b-4747-db59-58244899f27a"
      },
      "execution_count": null,
      "outputs": [
        {
          "output_type": "stream",
          "name": "stdout",
          "text": [
            "   y_test       pred\n",
            "0     NaN  19.748293\n",
            "1     NaN  19.748293\n",
            "2    17.0  19.748293\n",
            "3     NaN  19.748293\n",
            "4     NaN  19.748293\n"
          ]
        }
      ]
    },
    {
      "cell_type": "code",
      "source": [
        "sns.jointplot(x=\"y_test\",y=\"pred\",data=Comp)"
      ],
      "metadata": {
        "colab": {
          "base_uri": "https://localhost:8080/",
          "height": 458
        },
        "id": "92gK2WxYgelr",
        "outputId": "7762bbfc-e415-4cca-bc42-16611185e4fd"
      },
      "execution_count": null,
      "outputs": [
        {
          "output_type": "execute_result",
          "data": {
            "text/plain": [
              "<seaborn.axisgrid.JointGrid at 0x7f89c5c4f940>"
            ]
          },
          "metadata": {},
          "execution_count": 96
        },
        {
          "output_type": "display_data",
          "data": {
            "text/plain": [
              "<Figure size 432x432 with 3 Axes>"
            ],
            "image/png": "[encoded data removed]"
          },
          "metadata": {
            "needs_background": "light"
          }
        }
      ]
    },
    {
      "cell_type": "code",
      "source": [
        "y_test.isnull().sum()"
      ],
      "metadata": {
        "colab": {
          "base_uri": "https://localhost:8080/"
        },
        "id": "gkZpq9rPg9tJ",
        "outputId": "d1dfbc4c-e022-4cf1-dec3-bcaf0efb4f18"
      },
      "execution_count": null,
      "outputs": [
        {
          "output_type": "execute_result",
          "data": {
            "text/plain": [
              "0"
            ]
          },
          "metadata": {},
          "execution_count": 84
        }
      ]
    },
    {
      "cell_type": "code",
      "source": [
        "len(list(predictions))"
      ],
      "metadata": {
        "colab": {
          "base_uri": "https://localhost:8080/"
        },
        "id": "LrrlYduKjcDO",
        "outputId": "c237a662-a5e3-46d7-94ea-a8655b4b1aba"
      },
      "execution_count": null,
      "outputs": [
        {
          "output_type": "execute_result",
          "data": {
            "text/plain": [
              "4250"
            ]
          },
          "metadata": {},
          "execution_count": 95
        }
      ]
    }
  ]
}